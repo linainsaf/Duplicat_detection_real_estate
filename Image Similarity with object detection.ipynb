{
 "cells": [
  {
   "cell_type": "code",
   "execution_count": 131,
   "id": "95de9e83",
   "metadata": {},
   "outputs": [],
   "source": [
    "from transformers import DetrFeatureExtractor, DetrForObjectDetection\n",
    "import torch\n",
    "from PIL import Image\n",
    "import requests\n",
    "import tensorflow as tf\n",
    "import matplotlib.pyplot as plt\n",
    "import numpy as np\n",
    "import pandas as pd\n",
    "import ast"
   ]
  },
  {
   "cell_type": "code",
   "execution_count": 50,
   "id": "cb2ef1c4",
   "metadata": {},
   "outputs": [],
   "source": [
    "def object_detection(image_dir):\n",
    "    \n",
    "    image = Image.open(image_dir)\n",
    "    \n",
    "    feature_extractor = DetrFeatureExtractor.from_pretrained(\"facebook/detr-resnet-50\")\n",
    "    model = DetrForObjectDetection.from_pretrained(\"facebook/detr-resnet-50\")\n",
    "\n",
    "    inputs = feature_extractor(images=image, return_tensors=\"pt\")\n",
    "    outputs = model(**inputs)\n",
    "\n",
    "    # convert outputs to COCO API\n",
    "    target_sizes = torch.tensor([image.size[::-1]])\n",
    "    results = feature_extractor.post_process(outputs, target_sizes=target_sizes)[0]\n",
    "    \n",
    "    \n",
    "    objects, labels, scores = [], [], []\n",
    "    \n",
    "    for score, label, box in zip(results[\"scores\"], results[\"labels\"], results[\"boxes\"]):\n",
    "        box = [round(i, 2) for i in box.tolist()] \n",
    "        x,y,w,h = box\n",
    "\n",
    "        if score > 0.5:\n",
    "            objects.append(image.crop((int(x), int(y), int(w), int(h))))\n",
    "            labels.append(model.config.id2label[label.item()])\n",
    "            scores.append(round(score.item(), 3))\n",
    "    return  objects, labels, scores"
   ]
  },
  {
   "cell_type": "code",
   "execution_count": 228,
   "id": "6be7e43d",
   "metadata": {},
   "outputs": [],
   "source": [
    "import cv2 \n",
    "import matplotlib.pyplot as plt\n",
    "\n",
    "def sift_score(image1, image2, ratio = 0.8) :\n",
    "    \n",
    "    hight = max(np.shape(image1)[0],np.shape(image2)[0])\n",
    "    width = max(np.shape(image1)[1],np.shape(image2)[1])\n",
    "    \n",
    "    image1 = cv2.resize(np.array(image1), (width, hight))                           \n",
    "    image2 = cv2.resize(np.array(image2), (width, hight))\n",
    "\n",
    "    #sift\n",
    "    sift = cv2.SIFT_create()\n",
    "\n",
    "    keypoints_1, descriptors_1 = sift.detectAndCompute(image1,None)\n",
    "    keypoints_2, descriptors_2 = sift.detectAndCompute(image2,None)\n",
    "\n",
    "    # BFMatcher with default params\n",
    "    bf = cv2.BFMatcher()\n",
    "    try : \n",
    "        matches = bf.knnMatch( descriptors_1, descriptors_2,k=2)\n",
    "        # Apply ratio test\n",
    "        good = []\n",
    "        for m,n in matches:\n",
    "            if m.distance < ratio*n.distance:\n",
    "                good.append([m])\n",
    "        number_keypoints = 0\n",
    "        if len(keypoints_1) <= len(keypoints_2):\n",
    "            number_keypoints = len(keypoints_1)\n",
    "        else : \n",
    "            number_keypoints = len(keypoints_2)\n",
    "\n",
    "        score = len(good)/number_keypoints*100\n",
    "    except:\n",
    "        score = 0\n",
    "\n",
    "    return score\n",
    "    "
   ]
  },
  {
   "cell_type": "code",
   "execution_count": 229,
   "id": "71fb4eb7",
   "metadata": {},
   "outputs": [],
   "source": [
    "def match_images(image_dir1, image_dir2):\n",
    "    objects1, labels1, scores1 = object_detection(image_dir1)\n",
    "    objects2, labels2, scores2 = object_detection(image_dir2)\n",
    "    score = 0\n",
    "    if objects1 and objects2:\n",
    "        for i in range(len(labels1)):\n",
    "            for j in range(len(labels2)):\n",
    "                if labels1[i] == labels2[j] :\n",
    "                        score += sift_score(objects1[i],objects2[j])\n",
    "    return score"
   ]
  },
  {
   "cell_type": "code",
   "execution_count": 219,
   "id": "bd0fed30",
   "metadata": {},
   "outputs": [],
   "source": [
    "score = match_images(\"data/pictures/41529__7.jpg\", \"data/pictures/44432__3.jpg\")"
   ]
  },
  {
   "cell_type": "code",
   "execution_count": 220,
   "id": "a8026821",
   "metadata": {},
   "outputs": [
    {
     "data": {
      "text/plain": [
       "182.7283985364481"
      ]
     },
     "execution_count": 220,
     "metadata": {},
     "output_type": "execute_result"
    }
   ],
   "source": [
    "score"
   ]
  },
  {
   "cell_type": "code",
   "execution_count": 221,
   "id": "37af7d35",
   "metadata": {},
   "outputs": [],
   "source": [
    "data = pd.read_csv(\"data/pairs.csv\")[:5]"
   ]
  },
  {
   "cell_type": "code",
   "execution_count": 222,
   "id": "8199c079",
   "metadata": {},
   "outputs": [],
   "source": [
    "listing = pd.read_csv(\"data/listing.csv\")"
   ]
  },
  {
   "cell_type": "code",
   "execution_count": null,
   "id": "bee889c0",
   "metadata": {},
   "outputs": [
    {
     "name": "stdout",
     "output_type": "stream",
     "text": [
      "0\n",
      "1\n",
      "2\n",
      "3\n"
     ]
    }
   ],
   "source": [
    "matches = []\n",
    "for idx, row in data.iterrows():\n",
    "    print(idx)\n",
    "    score = 0\n",
    "    id1 ,id2 = data[\"listing_id_1\"][idx], data[\"listing_id_2\"][idx]\n",
    "    checkPrice = listing[\"current_price\"][listing[\"listing_id\"]==id1].values[0]== listing[\"current_price\"][listing[\"listing_id\"]==id2].values[0]\n",
    "    city_zip = listing[\"city_zip\"][listing[\"listing_id\"]==id1].values[0]== listing[\"city_zip\"][listing[\"listing_id\"]==id2].values[0]\n",
    "    transaction_type = listing[\"transaction_type\"][listing[\"listing_id\"]==id1].values[0]== listing[\"transaction_type\"][listing[\"listing_id\"]==id2].values[0]\n",
    "    item_type = listing[\"item_type\"][listing[\"listing_id\"]==id1].values[0]== listing[\"item_type\"][listing[\"listing_id\"]==id2].values[0]\n",
    "    check = True\n",
    "    if check : \n",
    "        directories_1 =ast.literal_eval(listing[listing[\"listing_id\"]==id1].pictures.values[0])\n",
    "        directories_2 =ast.literal_eval(listing[listing[\"listing_id\"]==id2].pictures.values[0])\n",
    "        for i in range(len(directories_1)):\n",
    "            for j in range(len(directories_2)):\n",
    "                score += match_images(directories_1[i], directories_2[j])\n",
    "        matches.append(score)                    \n",
    "    else :\n",
    "        matches.append(0)\n"
   ]
  },
  {
   "cell_type": "code",
   "execution_count": null,
   "id": "249a0f9d",
   "metadata": {},
   "outputs": [],
   "source": [
    "len(matches)"
   ]
  },
  {
   "cell_type": "code",
   "execution_count": 211,
   "id": "329ce1f3",
   "metadata": {},
   "outputs": [],
   "source": [
    "results = data"
   ]
  },
  {
   "cell_type": "code",
   "execution_count": 212,
   "id": "29283fec",
   "metadata": {},
   "outputs": [],
   "source": [
    "results[\"score\"] = matches"
   ]
  },
  {
   "cell_type": "code",
   "execution_count": 213,
   "id": "7b33eb2e",
   "metadata": {},
   "outputs": [
    {
     "data": {
      "text/html": [
       "<div>\n",
       "<style scoped>\n",
       "    .dataframe tbody tr th:only-of-type {\n",
       "        vertical-align: middle;\n",
       "    }\n",
       "\n",
       "    .dataframe tbody tr th {\n",
       "        vertical-align: top;\n",
       "    }\n",
       "\n",
       "    .dataframe thead th {\n",
       "        text-align: right;\n",
       "    }\n",
       "</style>\n",
       "<table border=\"1\" class=\"dataframe\">\n",
       "  <thead>\n",
       "    <tr style=\"text-align: right;\">\n",
       "      <th></th>\n",
       "      <th>Unnamed: 0</th>\n",
       "      <th>listing_id_1</th>\n",
       "      <th>listing_id_2</th>\n",
       "      <th>labels</th>\n",
       "      <th>score</th>\n",
       "    </tr>\n",
       "  </thead>\n",
       "  <tbody>\n",
       "    <tr>\n",
       "      <th>0</th>\n",
       "      <td>0</td>\n",
       "      <td>120777696</td>\n",
       "      <td>116630376</td>\n",
       "      <td>1</td>\n",
       "      <td>0</td>\n",
       "    </tr>\n",
       "    <tr>\n",
       "      <th>1</th>\n",
       "      <td>1</td>\n",
       "      <td>120793420</td>\n",
       "      <td>121050028</td>\n",
       "      <td>1</td>\n",
       "      <td>0</td>\n",
       "    </tr>\n",
       "    <tr>\n",
       "      <th>2</th>\n",
       "      <td>2</td>\n",
       "      <td>118823311</td>\n",
       "      <td>111300261</td>\n",
       "      <td>1</td>\n",
       "      <td>0</td>\n",
       "    </tr>\n",
       "    <tr>\n",
       "      <th>3</th>\n",
       "      <td>3</td>\n",
       "      <td>112597318</td>\n",
       "      <td>102266138</td>\n",
       "      <td>0</td>\n",
       "      <td>0</td>\n",
       "    </tr>\n",
       "    <tr>\n",
       "      <th>4</th>\n",
       "      <td>4</td>\n",
       "      <td>72795989</td>\n",
       "      <td>68729895</td>\n",
       "      <td>1</td>\n",
       "      <td>0</td>\n",
       "    </tr>\n",
       "  </tbody>\n",
       "</table>\n",
       "</div>"
      ],
      "text/plain": [
       "   Unnamed: 0  listing_id_1  listing_id_2  labels  score\n",
       "0           0     120777696     116630376       1      0\n",
       "1           1     120793420     121050028       1      0\n",
       "2           2     118823311     111300261       1      0\n",
       "3           3     112597318     102266138       0      0\n",
       "4           4      72795989      68729895       1      0"
      ]
     },
     "execution_count": 213,
     "metadata": {},
     "output_type": "execute_result"
    }
   ],
   "source": [
    "results.head(60)"
   ]
  },
  {
   "cell_type": "code",
   "execution_count": null,
   "id": "1c59f4b0",
   "metadata": {},
   "outputs": [],
   "source": []
  }
 ],
 "metadata": {
  "kernelspec": {
   "display_name": "firstEnv",
   "language": "python",
   "name": "firstenv"
  },
  "language_info": {
   "codemirror_mode": {
    "name": "ipython",
    "version": 3
   },
   "file_extension": ".py",
   "mimetype": "text/x-python",
   "name": "python",
   "nbconvert_exporter": "python",
   "pygments_lexer": "ipython3",
   "version": "3.9.12"
  }
 },
 "nbformat": 4,
 "nbformat_minor": 5
}
